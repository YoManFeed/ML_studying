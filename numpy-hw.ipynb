{
 "cells": [
  {
   "cell_type": "markdown",
   "source": [
    "### Полезные команды\n",
    "\n",
    "(находясь в командном режиме)\n",
    "\n",
    "- `a` - добавить пустую ячейку сверху\n",
    "\n",
    "- `b` - добавить пустую ячейку снизу\n",
    "- `c` - скопировать текущую ячейку\n",
    "- `v` - вставить скопированную ячейку\n",
    "- `d` - удалить текущую ячейку\n",
    "- `x` - вырезать (удалить и скопировать) текущую ячейку\n",
    "- `m` - изменить тип выбранной ячейки на \"разметка\" \n",
    "- `y` - изменить тип выбранной ячейки на \"код\" \n",
    "- `z` - отменить последнее действие\n",
    "\n",
    "\n",
    "- `Enter` - начать редактировать выбранную ячейку\n",
    "\n",
    "(будучи в режим редактирования ячейки)\n",
    "- `esc` - вернуться в командный режим\n",
    "\n",
    "(будучи в любом режиме)\n",
    "\n",
    "- `Ctrl + Enter` - запустить выбранную ячейку\n",
    "- `Shift + Enter` - запустить выбранную ячейку и выбрать следующую"
   ],
   "metadata": {
    "collapsed": false
   },
   "id": "2eed52e7b81b3fec"
  },
  {
   "cell_type": "code",
   "execution_count": 2,
   "outputs": [],
   "source": [
    "import numpy as np"
   ],
   "metadata": {
    "collapsed": false
   },
   "id": "45645aa115249e23"
  },
  {
   "cell_type": "markdown",
   "source": [
    "### Генератор верхнетреугольной единичной матрицы:"
   ],
   "metadata": {
    "collapsed": false
   },
   "id": "c0ecde041b8e0a96"
  },
  {
   "cell_type": "code",
   "execution_count": 51,
   "outputs": [
    {
     "name": "stdout",
     "output_type": "stream",
     "text": [
      "[[1 0 1 0 1]\n",
      " [0 1 0 1 0]\n",
      " [1 0 1 0 1]\n",
      " [0 1 0 1 0]\n",
      " [1 0 1 0 1]]\n"
     ]
    }
   ],
   "source": [
    "size = 5\n",
    "result = np.zeros(shape=(size, size), dtype=int)\n",
    "for i in range(-1-size,size,2):\n",
    "    result = result + np.eye(N=size, M=size, k=i, dtype=int)\n",
    "print(result)"
   ],
   "metadata": {
    "collapsed": false,
    "ExecuteTime": {
     "end_time": "2023-10-22T11:23:20.429608Z",
     "start_time": "2023-10-22T11:23:20.422696Z"
    }
   },
   "id": "e4c12e0a5e6eb150"
  },
  {
   "cell_type": "code",
   "execution_count": 52,
   "outputs": [
    {
     "name": "stdout",
     "output_type": "stream",
     "text": [
      "[[0 1 0 1 0]\n",
      " [1 0 1 0 1]\n",
      " [0 1 0 1 0]\n",
      " [1 0 1 0 1]\n",
      " [0 1 0 1 0]]\n"
     ]
    }
   ],
   "source": [
    "size = 5\n",
    "result = np.zeros(shape=(size, size), dtype=int)\n",
    "for i in range(-size,size,2):\n",
    "    result = result + np.eye(N=size, M=size, k=i, dtype=int)\n",
    "print(result)"
   ],
   "metadata": {
    "collapsed": false,
    "ExecuteTime": {
     "end_time": "2023-10-22T11:23:35.209775Z",
     "start_time": "2023-10-22T11:23:35.196492Z"
    }
   },
   "id": "de7ce6f07f7ace5e"
  },
  {
   "cell_type": "code",
   "execution_count": 56,
   "outputs": [
    {
     "name": "stdout",
     "output_type": "stream",
     "text": [
      "[[1 1 1 1 1]\n",
      " [0 1 1 1 1]\n",
      " [0 0 1 1 1]\n",
      " [0 0 0 1 1]\n",
      " [0 0 0 0 1]]\n"
     ]
    }
   ],
   "source": [
    "size = 5\n",
    "result = np.zeros(shape=(size, size), dtype=int)\n",
    "for i in range(0,size):\n",
    "    result = result + np.eye(N=size, M=size, k=i, dtype=int)\n",
    "print(result)"
   ],
   "metadata": {
    "collapsed": false,
    "ExecuteTime": {
     "end_time": "2023-10-22T11:24:18.908388Z",
     "start_time": "2023-10-22T11:24:18.889317Z"
    }
   },
   "id": "fffcdb91e0121326"
  },
  {
   "cell_type": "markdown",
   "source": [
    "### Задания\n",
    "\n",
    "1. Развернуть одномерный массив (сделать так, чтобы его элементы шли в обратном порядке).\n",
    "2. Найти максимальный нечетный элемент в массиве.\n",
    "3. Замените все нечетные элементы массива на ваше любимое число.\n",
    "4. Создайте массив первых n нечетных чисел, записанных в порядке убывания. Например, если `n=5`, то ответом будет `array([9, 7, 5, 3, 1])`. *Функции, которые могут пригодиться при решении: `.arange()`*\n",
    "5. Вычислите самое близкое и самое дальнее числа к данному в рассматриваемом массиве чисел. Например, если на вход поступают массив `array([0, 1, 2, 3, 4])` и число 1.33, то ответом будет `(1, 4)`. _Функции, которые могут пригодиться при решении: `.abs()`, `.argmax()`, `.argmin()`_\n",
    "6. Вычисляющую первообразную заданного полинома (в качестве константы возьмите ваше любимое число). Например, если на вход поступает массив коэффициентов `array([4, 6, 0, 1])`, что соответствует полиному $4x^3 + 6x^2 + 1$, на выходе получается массив коэффициентов `array([1, 2, 0, 1, -2])`, соответствующий полиному $x^4 + 2x^3 + x - 2$. _Функции, которые могут пригодиться при решении: `.append()`_\n",
    "7. Пользуясь пунктом 6, посчитайте первую производную для заданного полинома в заданной точке."
   ],
   "metadata": {
    "collapsed": false
   },
   "id": "f79bbe88cd8f01e2"
  },
  {
   "cell_type": "code",
   "execution_count": 79,
   "outputs": [
    {
     "name": "stdout",
     "output_type": "stream",
     "text": [
      "[ 2 40 11 29 42 86 11 89 14 69]\n",
      "[69 14 89 11 86 42 29 11 40  2]\n"
     ]
    }
   ],
   "source": [
    "n = np.random.randint(1, 100, size=10)\n",
    "print(n)\n",
    "\n",
    "reverse = n[::-1]\n",
    "print(reverse)"
   ],
   "metadata": {
    "collapsed": false,
    "ExecuteTime": {
     "end_time": "2023-10-22T11:47:00.346211Z",
     "start_time": "2023-10-22T11:47:00.343307Z"
    }
   },
   "id": "99ab05042e073cad"
  },
  {
   "cell_type": "code",
   "execution_count": 80,
   "outputs": [
    {
     "name": "stdout",
     "output_type": "stream",
     "text": [
      "89\n"
     ]
    }
   ],
   "source": [
    "print(max(n))"
   ],
   "metadata": {
    "collapsed": false,
    "ExecuteTime": {
     "end_time": "2023-10-22T11:47:04.371522Z",
     "start_time": "2023-10-22T11:47:04.357071Z"
    }
   },
   "id": "f0fd9793a7274f58"
  },
  {
   "cell_type": "code",
   "execution_count": 86,
   "outputs": [
    {
     "name": "stdout",
     "output_type": "stream",
     "text": [
      "[ 2 40 -1 -1 42 86 -1 -1 14 -1]\n"
     ]
    }
   ],
   "source": [
    "mask = n % 2 == 1\n",
    "n[mask] = -1\n",
    "\n",
    "print(n)"
   ],
   "metadata": {
    "collapsed": false,
    "ExecuteTime": {
     "end_time": "2023-10-22T11:52:04.018740Z",
     "start_time": "2023-10-22T11:52:04.014760Z"
    }
   },
   "id": "bcb464f435f599ea"
  },
  {
   "cell_type": "code",
   "execution_count": 90,
   "outputs": [
    {
     "name": "stdout",
     "output_type": "stream",
     "text": [
      "[9 7 5 3 1]\n"
     ]
    }
   ],
   "source": [
    "size = 5\n",
    "n = np.arange(1,2*size,step=2)\n",
    "\n",
    "print(np.flip(n))"
   ],
   "metadata": {
    "collapsed": false,
    "ExecuteTime": {
     "end_time": "2023-10-22T11:54:05.757125Z",
     "start_time": "2023-10-22T11:54:05.753893Z"
    }
   },
   "id": "a3c5bdefc84e1b60"
  },
  {
   "cell_type": "code",
   "execution_count": 28,
   "outputs": [
    {
     "name": "stdout",
     "output_type": "stream",
     "text": [
      "1.32\n",
      "-9.99\n"
     ]
    }
   ],
   "source": [
    "arr = np.array([-9.99, 1.32, 2, 3, 4])\n",
    "number = 1.33\n",
    "arr_upd = np.abs(arr - 1.33)\n",
    "print(arr[np.argmin(arr_upd)])\n",
    "print(arr[np.argmax(arr_upd)])\n"
   ],
   "metadata": {
    "collapsed": false,
    "ExecuteTime": {
     "end_time": "2023-10-22T15:27:36.119485Z",
     "start_time": "2023-10-22T15:27:36.113837Z"
    }
   },
   "id": "6a4f0a271c68038d"
  },
  {
   "cell_type": "code",
   "execution_count": 31,
   "outputs": [
    {
     "name": "stdout",
     "output_type": "stream",
     "text": [
      "[ 0.2  0.5  0.   0.5 -2.   0. ]\n",
      "[4 6 0 1]\n",
      "4601\n"
     ]
    }
   ],
   "source": [
    "koefs = np.array([1, 2, 0, 1, -2])\n",
    "number = 10\n",
    "\n",
    "print(np.polyint(koefs))  # первообразная\n",
    "print(np.polyder(koefs))  # производная\n",
    "\n",
    "print(np.polyval(np.polyder(koefs), number))  # производная в точке"
   ],
   "metadata": {
    "collapsed": false,
    "ExecuteTime": {
     "end_time": "2023-10-22T15:33:26.461576Z",
     "start_time": "2023-10-22T15:33:26.455967Z"
    }
   },
   "id": "a358189c6aaa5ecd"
  }
 ],
 "metadata": {
  "kernelspec": {
   "display_name": "Python 3",
   "language": "python",
   "name": "python3"
  },
  "language_info": {
   "codemirror_mode": {
    "name": "ipython",
    "version": 2
   },
   "file_extension": ".py",
   "mimetype": "text/x-python",
   "name": "python",
   "nbconvert_exporter": "python",
   "pygments_lexer": "ipython2",
   "version": "2.7.6"
  }
 },
 "nbformat": 4,
 "nbformat_minor": 5
}
